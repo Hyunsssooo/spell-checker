{
 "cells": [
  {
   "cell_type": "markdown",
   "metadata": {},
   "source": [
    "Some Python libraries for Korean text-processing and NLP:\n",
    "* [Library listing](https://github.com/lqez/awesome-hangul#python)\n",
    "* [hangul-utils](https://github.com/kaniblu/hangul-utils)\n",
    "* [Korean mornphology library](https://pythonhosted.org/korean/)\n",
    "* [Jamo](https://github.com/JDongian/python-jamo), docs [here](https://python-readthedocs.io/en/latest/)\n",
    "* [Python script for Hangul manipulations](https://raw.githubusercontent.com/sublee/hangulize/master/hangulize/hangul.py)\n",
    "* [PyKoSpacing - spacing corrector](https://github.com/haven-jeon/PyKoSpacing)\n",
    "* [Hanspell - spelling corrector](https://github.com/ssut/py-hanspell)\n"
   ]
  },
  {
   "cell_type": "code",
   "execution_count": 1,
   "metadata": {},
   "outputs": [],
   "source": [
    "import json"
   ]
  },
  {
   "cell_type": "code",
   "execution_count": 4,
   "metadata": {},
   "outputs": [
    {
     "data": {
      "text/plain": [
       "['끝.', '아!', '후퇴!', '번호!', '병가.', '전하.', '거총!', '빨리!', '꺼져!', '매체.']"
      ]
     },
     "execution_count": 4,
     "metadata": {},
     "output_type": "execute_result"
    }
   ],
   "source": [
    "# load KAIST 60K corpus\n",
    "koGroundTruth = []\n",
    "with open('kaist.corpus-khaiii-v0.5.json') as kcf:\n",
    "    for line in kcf:\n",
    "        data = json.loads(line)\n",
    "        if len(data) == 5:\n",
    "            koGroundTruth.append(data[1])\n",
    "#\n",
    "koGroundTruth[:10]"
   ]
  },
  {
   "cell_type": "code",
   "execution_count": 7,
   "metadata": {},
   "outputs": [
    {
     "ename": "SyntaxError",
     "evalue": "invalid syntax (215491863.py, line 1)",
     "output_type": "error",
     "traceback": [
      "\u001b[0;36m  File \u001b[0;32m\"/var/folders/cs/m7t6pp3s77vdpys3fffl_6mw0000gn/T/ipykernel_15914/215491863.py\"\u001b[0;36m, line \u001b[0;32m1\u001b[0m\n\u001b[0;31m    $pip install jamo\u001b[0m\n\u001b[0m    ^\u001b[0m\n\u001b[0;31mSyntaxError\u001b[0m\u001b[0;31m:\u001b[0m invalid syntax\n"
     ]
    }
   ],
   "source": [
    "# check some Hangul libraries\n",
    "from jamo import h2j, j2hcj, hangul_to_jamo, j2h\n",
    "\n",
    "print(\"h2j('친') => \", h2j('친'))\n",
    "print(\"list(hangul_to_jamo('친')) =>\", list(hangul_to_jamo('친')))\n",
    "print(\"j2hcj(h2j('친')) =>\", j2hcj(h2j('친')))\n",
    "print(\"j2h('ᄎ', 'ᅵ', 'ᆫ') =>\", j2h('ᄎ', 'ᅵ', 'ᆫ'))\n"
   ]
  },
  {
   "cell_type": "code",
   "execution_count": null,
   "metadata": {},
   "outputs": [],
   "source": [
    "h2j('친')"
   ]
  },
  {
   "cell_type": "code",
   "execution_count": null,
   "metadata": {},
   "outputs": [],
   "source": [
    "j2hcj('친')"
   ]
  },
  {
   "cell_type": "code",
   "execution_count": null,
   "metadata": {},
   "outputs": [],
   "source": [
    "j2hcj(h2j('친'))"
   ]
  },
  {
   "cell_type": "code",
   "execution_count": null,
   "metadata": {},
   "outputs": [],
   "source": [
    "hangul_to_jamo('친')"
   ]
  },
  {
   "cell_type": "code",
   "execution_count": null,
   "metadata": {},
   "outputs": [],
   "source": [
    "list(hangul_to_jamo('친'))"
   ]
  },
  {
   "cell_type": "code",
   "execution_count": 1,
   "metadata": {},
   "outputs": [
    {
     "data": {
      "text/plain": [
       "{'result': True,\n",
       " 'original': '저는한국어를쉽게공부할수있어요.',\n",
       " 'checked': '저는 한국어를 쉽게 공부할 수 있어요.',\n",
       " 'errors': 1,\n",
       " 'words': OrderedDict([('저는', 2),\n",
       "              ('한국어를', 2),\n",
       "              ('쉽게', 2),\n",
       "              ('공부할', 2),\n",
       "              ('수', 2),\n",
       "              ('있어요.', 2)]),\n",
       " 'time': 0.03572702407836914}"
      ]
     },
     "execution_count": 1,
     "metadata": {},
     "output_type": "execute_result"
    }
   ],
   "source": [
    "from hanspell import spell_checker\n",
    "spell_checker.check(u'저 는 한국어을 쉽게 공부할수 있어요.').as_dict()\n",
    "spell_checker.check(u'저 는 한국어를쉽게 공부할수 있 어요.').as_dict()\n",
    "spell_checker.check(u'저는한국어를쉽게공부할수있어요.').as_dict()"
   ]
  },
  {
   "cell_type": "code",
   "execution_count": null,
   "metadata": {},
   "outputs": [],
   "source": [
    "import hangul"
   ]
  },
  {
   "cell_type": "code",
   "execution_count": null,
   "metadata": {},
   "outputs": [],
   "source": [
    "suspects = []\n",
    "for sentence in koGroundTruth:\n",
    "    hangulCount = 0\n",
    "    nonAlphabeticCount = 0\n",
    "    for character in sentence:\n",
    "        if hangul.ishangul(character):\n",
    "            hangulCount += 1\n",
    "        elif not character.isalpha():\n",
    "            nonAlphabeticCount += 1\n",
    "    lengthWithoutAlphas = len(sentence) - nonAlphabeticCount\n",
    "    if lengthWithoutAlphas > 0 and hangulCount / lengthWithoutAlphas < 0.25:\n",
    "        suspects.append(sentence)\n",
    "\n"
   ]
  },
  {
   "cell_type": "code",
   "execution_count": null,
   "metadata": {},
   "outputs": [],
   "source": [
    "len(suspects)"
   ]
  },
  {
   "cell_type": "code",
   "execution_count": null,
   "metadata": {},
   "outputs": [],
   "source": [
    "suspects[:10]"
   ]
  },
  {
   "cell_type": "code",
   "execution_count": 1,
   "metadata": {},
   "outputs": [],
   "source": [
    "from pykospacing import Spacing"
   ]
  },
  {
   "cell_type": "code",
   "execution_count": 2,
   "metadata": {},
   "outputs": [
    {
     "data": {
      "text/plain": [
       "'귀 밑에서 턱까지 잇따라 난 수염을 구레나 룻이라고 한다.'"
      ]
     },
     "execution_count": 2,
     "metadata": {},
     "output_type": "execute_result"
    }
   ],
   "source": [
    "spacing = Spacing()\n",
    "spacing('귀밑에서턱까지잇따라난수염을구레나룻이라고한다.')"
   ]
  },
  {
   "cell_type": "code",
   "execution_count": 3,
   "metadata": {},
   "outputs": [
    {
     "data": {
      "text/plain": [
       "'저 는 한국어를 쉽게 공부할 수 있 어요.'"
      ]
     },
     "execution_count": 3,
     "metadata": {},
     "output_type": "execute_result"
    }
   ],
   "source": [
    "spacing(\"저 는 한국어를쉽게 공부할수 있 어요.\")"
   ]
  },
  {
   "cell_type": "code",
   "execution_count": 6,
   "metadata": {},
   "outputs": [
    {
     "data": {
      "text/plain": [
       "'저는 한국어를 쉽게 공부할 수 있어요.'"
      ]
     },
     "execution_count": 6,
     "metadata": {},
     "output_type": "execute_result"
    }
   ],
   "source": [
    "spacing(\"저는한국어를쉽게공부할수있어요.\")"
   ]
  },
  {
   "cell_type": "code",
   "execution_count": null,
   "metadata": {},
   "outputs": [],
   "source": []
  }
 ],
 "metadata": {
  "kernelspec": {
   "display_name": "Python 3.9.7 ('base')",
   "language": "python",
   "name": "python3"
  },
  "language_info": {
   "codemirror_mode": {
    "name": "ipython",
    "version": 3
   },
   "file_extension": ".py",
   "mimetype": "text/x-python",
   "name": "python",
   "nbconvert_exporter": "python",
   "pygments_lexer": "ipython3",
   "version": "3.9.7"
  },
  "orig_nbformat": 4,
  "vscode": {
   "interpreter": {
    "hash": "ad7e1b09d9b65acd1d5055eb6efd9b239fc20fac2b275489f401eb36651d84cf"
   }
  }
 },
 "nbformat": 4,
 "nbformat_minor": 2
}
